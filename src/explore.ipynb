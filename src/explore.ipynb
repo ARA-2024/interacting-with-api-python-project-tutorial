{
    "cells": [
        {
            "cell_type": "markdown",
            "metadata": {},
            "source": [
                "# Explore here"
            ]
        },
        {
            "cell_type": "code",
            "execution_count": 3,
            "metadata": {},
            "outputs": [
                {
                    "name": "stdout",
                    "output_type": "stream",
                    "text": [
                        "[('Easy On Me', 3.74, 82), ('Set Fire to the Rain', 4.05, 81), ('Someone Like You', 4.75, 80), ('Skyfall', 4.77, 83), ('Rolling in the Deep', 3.8, 79), ('Love In The Dark', 4.77, 78), ('When We Were Young', 4.85, 76), ('Send My Love (To Your New Lover)', 3.72, 72), ('Make You Feel My Love', 3.53, 74), ('Hello', 4.93, 73)]\n",
                        "                               Name  Duration  Popularity\n",
                        "0                        Easy On Me      3.74          82\n",
                        "1              Set Fire to the Rain      4.05          81\n",
                        "2                  Someone Like You      4.75          80\n",
                        "3                           Skyfall      4.77          83\n",
                        "4               Rolling in the Deep      3.80          79\n",
                        "5                  Love In The Dark      4.77          78\n",
                        "6                When We Were Young      4.85          76\n",
                        "7  Send My Love (To Your New Lover)      3.72          72\n",
                        "8             Make You Feel My Love      3.53          74\n",
                        "9                             Hello      4.93          73\n",
                        "                   Name  Duration  Popularity\n",
                        "0               Skyfall      4.77          83\n",
                        "1            Easy On Me      3.74          82\n",
                        "2  Set Fire to the Rain      4.05          81\n"
                    ]
                },
                {
                    "data": {
                        "image/png": "[encoded data removed]",
                        "text/plain": [
                            "<Figure size 640x480 with 1 Axes>"
                        ]
                    },
                    "metadata": {},
                    "output_type": "display_data"
                }
            ],
            "source": [
                "import pandas as pd\n",
                "from dotenv import load_dotenv\n",
                "import spotipy\n",
                "from spotipy.oauth2 import SpotifyClientCredentials\n",
                "import os\n",
                "import numpy as np\n",
                "import matplotlib\n",
                "import matplotlib.pyplot as plt\n",
                "\n",
                "# load the .env file variables\n",
                "load_dotenv()\n",
                "\n",
                "client_id = os.environ.get('myclient_id')\n",
                "client_secret = os.environ.get('myclient_secret')\n",
                "spotify = spotipy.Spotify(auth_manager = SpotifyClientCredentials(client_id, client_secret))\n",
                "\n",
                "# adele_id = '4dpARuHxo51G3z768sgnrY'\n",
                "# artist_top_tracks contiene las canciones con más reproducciones del artista\n",
                "result_adele = spotify.artist_top_tracks('4dpARuHxo51G3z768sgnrY')\n",
                "\n",
                "# Se crea una lista con el top 10 de las canciones del artista seleccionado\n",
                "data = [ ]\n",
                "for track in result_adele['tracks'][:10]:\n",
                "    data.append((track['name'], round((track['duration_ms']/60000),2), track['popularity']))\n",
                "print(data)\n",
                "\n",
                "# Se convierten los datos a un Dataframe\n",
                "df = pd.DataFrame(data, columns=['Name', 'Duration', 'Popularity'])\n",
                "print(df)\n",
                "\n",
                "# Se ordenan las canciones por popularidad creciente e imprime el top 3\n",
                "sorted_df = df.sort_values(by='Popularity', ascending=False, ignore_index=True)\n",
                "print(sorted_df[['Name', 'Duration', 'Popularity']][0:3])\n",
                "\n",
                "# Scatter plot de la popularidad y la duración\n",
                "ax = df.plot.scatter(x='Popularity', y='Duration', c='DarkBlue')\n",
                "\n",
                "\n",
                "\n",
                "\n",
                "\n",
                "\n",
                "\n",
                "\n"
            ]
        },
        {
            "cell_type": "markdown",
            "metadata": {},
            "source": [
                "Viendo la gráfica, no se observa una relación directa entre Popularidad y Duración de las canciones."
            ]
        }
    ],
    "metadata": {
        "kernelspec": {
            "display_name": "Python 3",
            "language": "python",
            "name": "python3"
        },
        "language_info": {
            "codemirror_mode": {
                "name": "ipython",
                "version": 3
            },
            "file_extension": ".py",
            "mimetype": "text/x-python",
            "name": "python",
            "nbconvert_exporter": "python",
            "pygments_lexer": "ipython3",
            "version": "3.11.4"
        },
        "orig_nbformat": 4
    },
    "nbformat": 4,
    "nbformat_minor": 2
}
